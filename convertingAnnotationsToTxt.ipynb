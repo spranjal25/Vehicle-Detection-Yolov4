{
 "metadata": {
  "language_info": {
   "codemirror_mode": {
    "name": "ipython",
    "version": 3
   },
   "file_extension": ".py",
   "mimetype": "text/x-python",
   "name": "python",
   "nbconvert_exporter": "python",
   "pygments_lexer": "ipython3",
   "version": "3.7.0-final"
  },
  "orig_nbformat": 2,
  "kernelspec": {
   "name": "Python 3.7.0 64-bit ('yolov4-gpu': conda)",
   "display_name": "Python 3.7.0 64-bit ('yolov4-gpu': conda)",
   "metadata": {
    "interpreter": {
     "hash": "db9ad1c1b75972731d86bbefb05e7cfc817c5822b80016d9047ffbc2a3145429"
    }
   }
  }
 },
 "nbformat": 4,
 "nbformat_minor": 2,
 "cells": [
  {
   "cell_type": "code",
   "execution_count": 3,
   "metadata": {},
   "outputs": [],
   "source": [
    "import numpy as np\n",
    "import pandas as pd"
   ]
  },
  {
   "cell_type": "code",
   "execution_count": 6,
   "metadata": {},
   "outputs": [],
   "source": [
    "data = pd.read_csv('W:\\\\DistanceEstimation\\\\train\\\\train.csv')"
   ]
  },
  {
   "cell_type": "code",
   "execution_count": 8,
   "metadata": {},
   "outputs": [
    {
     "output_type": "execute_result",
     "data": {
      "text/plain": [
       "                                            filename  width  height  class  \\\n",
       "0  2018-05-31_11-10-16_2018-05-31_11-10-27-396830...   1920    1080  truck   \n",
       "1  2018-05-31_11-10-16_2018-05-31_11-10-27-396830...   1920    1080  rider   \n",
       "2  2018-05-31_11-10-16_2018-05-31_11-10-27-396830...   1920    1080  rider   \n",
       "3  2018-05-31_11-10-16_2018-05-31_11-10-27-396830...   1920    1080    car   \n",
       "4  2018-05-31_11-10-16_2018-05-31_11-10-27-396830...   1920    1080  rider   \n",
       "\n",
       "   xmin  ymin  xmax  ymax  \n",
       "0   982   587  1018   631  \n",
       "1  1050   600  1055   605  \n",
       "2  1055   598  1063   613  \n",
       "3  1060   603  1105   635  \n",
       "4  1056   600  1071   629  "
      ],
      "text/html": "<div>\n<style scoped>\n    .dataframe tbody tr th:only-of-type {\n        vertical-align: middle;\n    }\n\n    .dataframe tbody tr th {\n        vertical-align: top;\n    }\n\n    .dataframe thead th {\n        text-align: right;\n    }\n</style>\n<table border=\"1\" class=\"dataframe\">\n  <thead>\n    <tr style=\"text-align: right;\">\n      <th></th>\n      <th>filename</th>\n      <th>width</th>\n      <th>height</th>\n      <th>class</th>\n      <th>xmin</th>\n      <th>ymin</th>\n      <th>xmax</th>\n      <th>ymax</th>\n    </tr>\n  </thead>\n  <tbody>\n    <tr>\n      <th>0</th>\n      <td>2018-05-31_11-10-16_2018-05-31_11-10-27-396830...</td>\n      <td>1920</td>\n      <td>1080</td>\n      <td>truck</td>\n      <td>982</td>\n      <td>587</td>\n      <td>1018</td>\n      <td>631</td>\n    </tr>\n    <tr>\n      <th>1</th>\n      <td>2018-05-31_11-10-16_2018-05-31_11-10-27-396830...</td>\n      <td>1920</td>\n      <td>1080</td>\n      <td>rider</td>\n      <td>1050</td>\n      <td>600</td>\n      <td>1055</td>\n      <td>605</td>\n    </tr>\n    <tr>\n      <th>2</th>\n      <td>2018-05-31_11-10-16_2018-05-31_11-10-27-396830...</td>\n      <td>1920</td>\n      <td>1080</td>\n      <td>rider</td>\n      <td>1055</td>\n      <td>598</td>\n      <td>1063</td>\n      <td>613</td>\n    </tr>\n    <tr>\n      <th>3</th>\n      <td>2018-05-31_11-10-16_2018-05-31_11-10-27-396830...</td>\n      <td>1920</td>\n      <td>1080</td>\n      <td>car</td>\n      <td>1060</td>\n      <td>603</td>\n      <td>1105</td>\n      <td>635</td>\n    </tr>\n    <tr>\n      <th>4</th>\n      <td>2018-05-31_11-10-16_2018-05-31_11-10-27-396830...</td>\n      <td>1920</td>\n      <td>1080</td>\n      <td>rider</td>\n      <td>1056</td>\n      <td>600</td>\n      <td>1071</td>\n      <td>629</td>\n    </tr>\n  </tbody>\n</table>\n</div>"
     },
     "metadata": {},
     "execution_count": 8
    }
   ],
   "source": [
    "data.head()"
   ]
  },
  {
   "cell_type": "code",
   "execution_count": 10,
   "metadata": {},
   "outputs": [
    {
     "output_type": "execute_result",
     "data": {
      "text/plain": [
       "Index(['filename', 'width', 'height', 'class', 'xmin', 'ymin', 'xmax', 'ymax'], dtype='object')"
      ]
     },
     "metadata": {},
     "execution_count": 10
    }
   ],
   "source": [
    "data.columns"
   ]
  },
  {
   "cell_type": "code",
   "execution_count": 14,
   "metadata": {},
   "outputs": [],
   "source": [
    "data = data.drop(['width', 'height'], axis=1)"
   ]
  },
  {
   "cell_type": "code",
   "execution_count": 16,
   "metadata": {},
   "outputs": [],
   "source": [
    "from sklearn.preprocessing import LabelEncoder"
   ]
  },
  {
   "cell_type": "code",
   "execution_count": 17,
   "metadata": {},
   "outputs": [],
   "source": [
    "encoder = LabelEncoder()"
   ]
  },
  {
   "cell_type": "code",
   "execution_count": 20,
   "metadata": {},
   "outputs": [],
   "source": [
    "data['classID'] = encoder.fit_transform(data['class'])"
   ]
  },
  {
   "cell_type": "code",
   "execution_count": 25,
   "metadata": {},
   "outputs": [
    {
     "output_type": "execute_result",
     "data": {
      "text/plain": [
       "array([7, 5, 2, 3, 0, 4, 1, 6])"
      ]
     },
     "metadata": {},
     "execution_count": 25
    }
   ],
   "source": [
    "data['classID'].unique()"
   ]
  },
  {
   "cell_type": "code",
   "execution_count": 35,
   "metadata": {},
   "outputs": [
    {
     "output_type": "execute_result",
     "data": {
      "text/plain": [
       "['autorickshaw',\n",
       " 'bus',\n",
       " 'car',\n",
       " 'motorcycle',\n",
       " 'pedestrian',\n",
       " 'rider',\n",
       " 'traffic light',\n",
       " 'truck']"
      ]
     },
     "metadata": {},
     "execution_count": 35
    }
   ],
   "source": [
    "list(encoder.inverse_transform([0,1,2,3,4,5,6,7]))"
   ]
  },
  {
   "source": [
    "## These are alphabetically encoded"
   ],
   "cell_type": "markdown",
   "metadata": {}
  },
  {
   "cell_type": "code",
   "execution_count": 36,
   "metadata": {},
   "outputs": [],
   "source": [
    "data = data[['filename', 'classID', 'xmin', 'xmax', 'ymin', 'ymax']]"
   ]
  },
  {
   "cell_type": "code",
   "execution_count": 56,
   "metadata": {},
   "outputs": [],
   "source": [
    "groupedData = data.groupby('filename')"
   ]
  },
  {
   "cell_type": "code",
   "execution_count": 65,
   "metadata": {},
   "outputs": [
    {
     "output_type": "stream",
     "name": "stdout",
     "text": [
      "2018-05-31_11-10-16_2018-05-31_11-10-27-396830_leftImg8bit.jpg\n    classID  xmin  xmax  ymin  ymax\n0         7   982  1018   587   631\n1         5  1050  1055   600   605\n2         5  1055  1063   598   613\n3         2  1060  1105   603   635\n4         5  1056  1071   600   629\n5         3  1059  1066   617   623\n6         3   994  1008   610   636\n7         5   995  1009   602   634\n8         5  1086  1093   598   605\n9         5  1236  1247   603   615\n10        3  1238  1249   614   622\n11        2  1326  1392   606   638\n12        0  1526  1573   603   650\n13        2  1000  1060   601   660\n14        5  1153  1178   602   622\n15        5  1036  1068   607   651\n16        3  1037  1066   634   685\n17        4   704   753   594   708\n18        3   758   800   657   733\n19        5   746   792   624   713\n20        2  1061  1332   621   843\n21        2  1122  1180   608   625\n2018-05-31_11-10-16_2018-05-31_11-10-51-600523_leftImg8bit.jpg\n    classID  xmin  xmax  ymin  ymax\n22        0   717   787   592   609\n23        2   724   791   600   654\n24        7   743   958   540   718\n25        7   960   978   582   600\n26        2   960   978   591   606\n27        5   964   974   594   607\n28        3   965   974   603   613\n29        1   978  1002   581   609\n30        1  1002  1030   577   616\n31        2  1031  1054   593   615\n32        1  1038  1073   577   596\n33        2  1043  1070   592   642\n34        0  1059  1120   592   669\n35        3  1166  1197   618   664\n36        3  1169  1196   598   655\n37        2  1250  1370   616   634\n38        7  1383  1453   579   634\n39        2  1118  1688   632  1067\n40        5  1716  1785   627   740\n41        5  1612  1739   624   792\n42        3  1731  1814   727   847\n43        3  1604  1768   682   878\n44        5   996  1054   608   709\n45        5   963  1061   612   781\n46        3   962  1064   685   825\n2018-05-31_11-10-16_2018-05-31_11-11-51-917670_leftImg8bit.jpg\n     classID  xmin  xmax  ymin  ymax\n88         1   997  1057   569   603\n89         5   964   975   593   612\n90         0   951   969   594   622\n91         2   966  1010   596   626\n92         3   961   974   607   619\n93         2   982  1030   599   629\n94         2   992  1065   603   629\n95         4  1100  1124   599   649\n96         3  1163  1180   592   603\n97         5  1167  1175   584   595\n98         2  1220  1280   586   630\n99         2  1313  1379   583   621\n100        5  1313  1333   597   623\n101        1  1692  1920   469   683\n102        5  1517  1657   621   910\n103        3  1274  1622   729  1079\n104        3  1520  1719   816  1063\n105        5  1275  1540   611  1069\n106        3  1164  1252   636   768\n107        5  1170  1249   606   734\n108        2  1001  1134   607   737\n109        1   883   948   567   602\n110        0   811   880   593   678\n111        0   868   951   595   626\n112        0   798   829   593   654\n113        2   776  1069   606   876\n114        7     4   794   113   893\n2018-05-31_11-10-16_2018-05-31_11-11-8-262703_leftImg8bit.jpg\n    classID  xmin  xmax  ymin  ymax\n47        7   568   785   490   602\n48        7   821   869   553   585\n49        2   884   938   560   578\n50        1   953   973   544   578\n51        1   964  1105   521   591\n52        1  1102  1189   540   627\n53        2  1187  1234   604   642\n54        2  1235  1289   612   689\n55        5  1207  1240   600   662\n56        5  1223  1263   602   667\n57        3  1222  1261   647   703\n58        1  1309  1379   601   633\n59        5  1274  1316   598   688\n60        3  1275  1304   651   692\n61        5  1392  1413   614   621\n62        5  1468  1493   620   630\n63        2  1335  1501   621   689\n64        5  1568  1595   627   638\n65        5  1647  1674   623   647\n66        5  1668  1694   629   654\n67        2  1318  1861   632   944\n68        2  1710  1920   653   908\n69        2  1844  1919   901  1079\n70        4  1280  1376   609   909\n71        5  1123  1162   593   625\n72        0  1022  1137   591   739\n73        2  1046  1243   625   799\n74        2  1004  1039   576   654\n75        5   808   824   580   607\n76        5   784   807   576   609\n77        2   815   858   579   600\n78        0   814  1038   577   859\n79        5   757   783   576   618\n80        3   760   781   603   624\n81        2   777   842   597   766\n82        5   770   817   585   671\n83        3   719   777   651   747\n84        5   722   787   585   704\n85        5   449   581   610   859\n86        3   311   599   774  1079\n87        5   329   566   610  1036\n2018-05-31_11-10-16_2018-05-31_11-12-0-190307_leftImg8bit.jpg\n     classID  xmin  xmax  ymin  ymax\n115        1   957  1012   557   588\n116        6  1006  1032   474   482\n117        6  1034  1046   473   481\n118        2  1116  1132   580   596\n119        3  1127  1142   591   607\n120        5  1127  1139   580   596\n121        7  1132  1184   555   591\n122        1  1765  1913   508   556\n123        0  1737  1781   548   561\n124        0  1816  1866   544   558\n125        5  1806  1820   545   558\n126        5  1829  1844   549   557\n127        5  1797  1808   548   559\n128        5  1785  1798   547   560\n129        5  1762  1772   553   560\n130        5  1773  1781   552   560\n131        4  1492  1504   559   583\n132        4  1489  1505   573   596\n133        3  1429  1448   576   604\n134        3  1438  1450   576   607\n135        2  1525  1554   563   586\n136        4  1577  1599   561   583\n137        7  1621  1739   513   580\n138        5  1637  1651   556   582\n139        5  1654  1674   556   579\n140        3  1691  1738   568   602\n141        5  1704  1727   554   596\n142        3  1594  1646   575   610\n143        5  1609  1631   556   611\n144        3  1631  1674   575   609\n145        5  1644  1667   563   610\n146        3  1651  1709   575   607\n147        5  1669  1695   555   607\n148        2  1033  1087   585   600\n149        3   805   823   631   659\n150        5   802   822   598   648\n151        2  1047  1130   593   681\n152        5  1154  1186   591   634\n153        3  1103  1204   626   804\n154        5  1103  1203   588   766\n155        2  1068  1084   625   721\n156        7    61   805   119   852\n157        0   784  1088   582   964\n158        6  1683  1702   456   499\n159        6  1668  1687   497   528\n160        2  1315  1389   571   612\n"
     ]
    }
   ],
   "source": [
    "for g in groupedData.groups:\n",
    "    print(g)\n",
    "    print(groupedData.get_group(g))\n"
   ]
  },
  {
   "cell_type": "code",
   "execution_count": null,
   "metadata": {},
   "outputs": [],
   "source": []
  }
 ]
}